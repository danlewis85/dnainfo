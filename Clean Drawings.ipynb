{
 "cells": [
  {
   "cell_type": "markdown",
   "metadata": {},
   "source": [
    "# Clean Drawings\n",
    "\n",
    "This code fixes an issue with Williamsbridge drawings largely (25 - 17) representing the area of Williamsburg, presumably due to user error. It also recodes the 'Other' category, firstly by classifying 'Other' neighborhoods that are represented in the named neighborhoods field ('otherNeighborhood') and secondly by producing new neighborhoods where appropriate (5 or more drawings exist). 'Other' neighborhoods that are not named, are comments (i.e. 'My House'), relate to inappropriate values, are out of the geographical context of New York City (i.e. Hempstead'), or seem plausible but are too few in total number (i.e. RAMBO) are removed."
   ]
  },
  {
   "cell_type": "code",
   "execution_count": 1,
   "metadata": {
    "collapsed": true
   },
   "outputs": [],
   "source": [
    "import matplotlib.pyplot as plt\n",
    "import geopandas as gpd\n",
    "import pandas as pd\n",
    "import shapely\n",
    "\n",
    "%matplotlib inline"
   ]
  },
  {
   "cell_type": "code",
   "execution_count": 280,
   "metadata": {
    "collapsed": false
   },
   "outputs": [
    {
     "data": {
      "text/html": [
       "<div>\n",
       "<table border=\"1\" class=\"dataframe\">\n",
       "  <thead>\n",
       "    <tr style=\"text-align: right;\">\n",
       "      <th></th>\n",
       "      <th>geometry</th>\n",
       "      <th>neighborhoodLive</th>\n",
       "      <th>otherNeighborhood</th>\n",
       "      <th>shapeID</th>\n",
       "      <th>yearsLived</th>\n",
       "    </tr>\n",
       "  </thead>\n",
       "  <tbody>\n",
       "    <tr>\n",
       "      <th>0</th>\n",
       "      <td>POLYGON ((311834.6421283125 77460.83003325062,...</td>\n",
       "      <td>Allerton</td>\n",
       "      <td></td>\n",
       "      <td>259</td>\n",
       "      <td>2</td>\n",
       "    </tr>\n",
       "    <tr>\n",
       "      <th>1</th>\n",
       "      <td>POLYGON ((311305.0904452928 78317.74772849762,...</td>\n",
       "      <td>Allerton</td>\n",
       "      <td></td>\n",
       "      <td>298</td>\n",
       "      <td>0</td>\n",
       "    </tr>\n",
       "    <tr>\n",
       "      <th>2</th>\n",
       "      <td>POLYGON ((311189.369271409 78288.7412321083, 3...</td>\n",
       "      <td>Allerton</td>\n",
       "      <td></td>\n",
       "      <td>5964</td>\n",
       "      <td>2</td>\n",
       "    </tr>\n",
       "    <tr>\n",
       "      <th>3</th>\n",
       "      <td>POLYGON ((311199.2696228614 77331.72545917239,...</td>\n",
       "      <td>Allerton</td>\n",
       "      <td></td>\n",
       "      <td>59957</td>\n",
       "      <td>15</td>\n",
       "    </tr>\n",
       "    <tr>\n",
       "      <th>4</th>\n",
       "      <td>POLYGON ((311137.8304619553 78879.66082990178,...</td>\n",
       "      <td>Allerton</td>\n",
       "      <td></td>\n",
       "      <td>61660</td>\n",
       "      <td>1</td>\n",
       "    </tr>\n",
       "  </tbody>\n",
       "</table>\n",
       "</div>"
      ],
      "text/plain": [
       "                                            geometry neighborhoodLive  \\\n",
       "0  POLYGON ((311834.6421283125 77460.83003325062,...         Allerton   \n",
       "1  POLYGON ((311305.0904452928 78317.74772849762,...         Allerton   \n",
       "2  POLYGON ((311189.369271409 78288.7412321083, 3...         Allerton   \n",
       "3  POLYGON ((311199.2696228614 77331.72545917239,...         Allerton   \n",
       "4  POLYGON ((311137.8304619553 78879.66082990178,...         Allerton   \n",
       "\n",
       "  otherNeighborhood shapeID yearsLived  \n",
       "0                       259          2  \n",
       "1                       298          0  \n",
       "2                      5964          2  \n",
       "3                     59957         15  \n",
       "4                     61660          1  "
      ]
     },
     "execution_count": 280,
     "metadata": {},
     "output_type": "execute_result"
    }
   ],
   "source": [
    "# DNAInfo Data\n",
    "ny_data = r'C:\\Users\\djl543\\OneDrive\\Draw-Your-Neighborhood-master\\NYC_prep_wgs84.geojson'\n",
    "#ny_data = r'C:\\Users\\Dan\\OneDrive\\Draw-Your-Neighborhood-master\\NYC_raw_wgs84.geojson'\n",
    "ny_nhoods = gpd.read_file(ny_data)\n",
    "\n",
    "# Set the crs of the input geojson to WGS84\n",
    "ny_nhoods.crs = {'init': 'epsg:4326'}\n",
    "\n",
    "# Tranform to projected coordinate system - EPSG:32118 - New York Long Island, NAD83-based projection in metres.\n",
    "ny_nhoods = ny_nhoods.to_crs({'init':'epsg:32118'})\n",
    "\n",
    "ny_nhoods.head()"
   ]
  },
  {
   "cell_type": "code",
   "execution_count": 281,
   "metadata": {
    "collapsed": false
   },
   "outputs": [],
   "source": [
    "# Firstly, let's create a new field and initialise it with the 'neighborhoodLive' values.\n",
    "ny_nhoods['nhood'] =  ny_nhoods['neighborhoodLive']"
   ]
  },
  {
   "cell_type": "code",
   "execution_count": 282,
   "metadata": {
    "collapsed": false
   },
   "outputs": [],
   "source": [
    "# Now update the Williamsburg Williamsbridges.\n",
    "ny_nhoods.loc[(ny_nhoods['neighborhoodLive'] == \"Williamsbridge\") & (ny_nhoods['geometry'].centroid.bounds['maxy'] < 70000),'nhood'] = \"Williamsburg\""
   ]
  },
  {
   "cell_type": "code",
   "execution_count": 283,
   "metadata": {
    "collapsed": true
   },
   "outputs": [],
   "source": [
    "Other = ny_nhoods[ny_nhoods['neighborhoodLive'] == \"Other\"]"
   ]
  },
  {
   "cell_type": "code",
   "execution_count": 284,
   "metadata": {
    "collapsed": false
   },
   "outputs": [
    {
     "name": "stdout",
     "output_type": "stream",
     "text": [
      "Recoded drawings: 62\n"
     ]
    }
   ],
   "source": [
    "# Construct a manual lookup to recode misspelling and pre-existing names\n",
    "recode = {'Alphabet City': 'Alphabet City','Alphabet city':'Alphabet City', 'alphabet city':'Alphabet City',\n",
    "          'Bath Beach':'Bath Beach','Bath beach ':'Bath Beach', 'Beechhurst':'Beechhurst',\n",
    "          'Belle Harbor ':'Belle Harbor', 'Bensonhurst': 'Bensonhurst','Boerum Hill': 'Boerum Hill',\n",
    "          'Central Harlem':'Central Harlem','Clinton':'Hell\\'s Kitchen / Clinton','Concourse':'Concourse',\n",
    "          'Crown Heights':'Crown Heights','Flushing':'Flushing','Forte george':'Fort George','Gerritsen beach':'Gerritsen Beach',\n",
    "          'Gowanus':'Gowanus','Greenwood Heights':'Greenwood Heights','Hudson Heights':'Hudson Heights',\n",
    "          'Hells Kitchen':'Hell\\'s Kitchen / Clinton', 'Inwood': 'Inwood','Inwood Manhattan':'Inwood',\n",
    "          'Kensington':'Kensington', 'Kew Gardens':'Kew Gardens','Kips Bay':'Kips Bay', 'Mahattam Valley':'Manhattan Valley',\n",
    "          'Marble Hill':'Marble Hill','Marine Park':'Marine Park','Marine park ':'Marine Park','Midland beach':'Midland Beach',\n",
    "          'Midtown east':'Midtown East','Midwood ':'Midwood','NoMad':'NoMad','Peter Cooper Village':'Stuyvesant Town',\n",
    "          'Peter Cooper Village Stuyvesant Town':'Stuyvesant Town','ProspectLefferts Garden':'Prospect-Lefferts Gardens',\n",
    "          'SoundView':'Soundview','South ozone park':'South Ozone Park','South slope':'South Slope ','St George':'St. George',\n",
    "          'st George ': 'St. George','Stuyvesant Town ':'Stuyvesant Town','They call it Flatiron but its not':'Flatiron',\n",
    "          'Thuglaston':'Douglaston','Windsor terrace':'Windsor Terrace','bedstuy':'Bedford-Stuyvesant',\n",
    "          'carnegie hill':'Carnegie Hill','central harlem':'Central Harlem','little italy':'Little Italy',\n",
    "          'nomad':'NoMad','riverdale':'Riverdale','upper west side':'Upper West Side','woodlawn':'Woodlawn',\n",
    "          'Mahattam Valley':'Manhattan Valley', 'Seaport':'South Street Seaport','University heights':'University Heights',\n",
    "         'Saint Albans': 'St. Albans'}\n",
    "\n",
    "print \"Recoded drawings:\", Other[Other['otherNeighborhood'].isin(recode.keys())].count()[0]\n",
    "\n",
    "# Recode the 'nhood' field to reflect pre-existing 'Other' neighborhoods\n",
    "for i in recode.keys():\n",
    "    # Recode in main dataset\n",
    "    ny_nhoods.loc[ny_nhoods['otherNeighborhood']==i,'nhood'] = recode[i]\n",
    "    # Remove from consideration in other dataset\n",
    "    Other = Other[Other['otherNeighborhood'] != i]"
   ]
  },
  {
   "cell_type": "code",
   "execution_count": 285,
   "metadata": {
    "collapsed": false
   },
   "outputs": [
    {
     "name": "stdout",
     "output_type": "stream",
     "text": [
      "Deleted Drawings: 110\n"
     ]
    }
   ],
   "source": [
    "# Remove comments and empty, invalid, or inappropriate values.\n",
    "# Includes neighborhoods in Nassau or Westchester Counties, and New Jersey State. \n",
    "exclude = ['','a','Durham NC','Stockholm','My neighborhood','Five Towns','Poop','Fleetwood',\n",
    "           'manhasset','garden city park','Kearny','New Amsterdam','No Mans Land','Yonkers',\n",
    "           'Elmont','Valley Stream','Malverne','Journal Square','Great neck','Edgewater',\n",
    "           'Rebeca','Hoboken ','Im just curios','hi','Great Neck','Highland Park Minnesota',\n",
    "           'Paulus Hook','Wanker','Where I want to live','Floral park','My House','Hoboken',\n",
    "           'uaBBar','Hempstead','just want to see map','Rockville Centre','No name',\n",
    "           'Downtown Jersey City','dick butt','Dickbutt','Harsimus Cove','Crestwood','Los Angeles',\n",
    "          'Floral Park','Carteret','Cedarhurst','Great Neck ','Five towns','Remsen Village',\n",
    "          'Floral park ','Oceanside','Bergen Square','West New York']\n",
    "\n",
    "print \"Deleted Drawings:\",Other[Other['otherNeighborhood'].isin(exclude)].count()[0]\n",
    "# Remove from Other Dataset\n",
    "Other = Other[~Other['otherNeighborhood'].isin(exclude)]\n",
    "# Remove from main dataset\n",
    "ny_nhoods = ny_nhoods[(~((ny_nhoods['neighborhoodLive']=='Other') & (ny_nhoods['otherNeighborhood'].isin(exclude))))]"
   ]
  },
  {
   "cell_type": "code",
   "execution_count": 286,
   "metadata": {
    "collapsed": false
   },
   "outputs": [
    {
     "name": "stdout",
     "output_type": "stream",
     "text": [
      "Drawings assigned to new neighborhoods: 90\n"
     ]
    }
   ],
   "source": [
    "# Define Neighborhoods where sufficient drawings exist (5+)\n",
    "# 1. Bloomingdale (8 drawings; Manhattan)\n",
    "# 2. Glen Oaks (7 drawings; Queens)\n",
    "# 3. Harlem (13 drawings; Manhattan)\n",
    "# 4. Hollis Hills (14 drawings; Queens)\n",
    "# 5. Madison (5 drawings; Manhattan)\n",
    "# 6. Manhattanville (7 drawings; Manhattan)\n",
    "# 7. Mapleton (6 drawings; Brooklyn)\n",
    "# 8. South Harlem (10 drawings; Manhattan)\n",
    "# 9. South Williamsburg (10 drawings; Brooklyn)\n",
    "#10. South Village (5 drawings; Manhattan)\n",
    "#11. Two Bridges (6 drawings; Manhattan)\n",
    "\n",
    "new_nhood =  {'Bloomingdale':'Bloomingdale','Bloomingdale ':'Bloomingdale','Bloomingdale District':'Bloomingdale',\n",
    "             'Glen Oaks':'Glen Oaks','Glen oaks':'Glen Oaks','glen oaks':'Glen Oaks',\n",
    "             'Harlem':'Harlem','Harlem ':'Harlem','harlem':'Harlem',\n",
    "             'Hollis Hiils':'Hollis Hills','Hollis Hills':'Hollis Hills','Hollis hills':'Hollis Hills','Madison':'Madison',\n",
    "              'Manhattanville':'Manhattanville','manhattanville':'Manhattanville', 'Mapleton':'Mapleton',\n",
    "              'South Harlem':'South Harlem','South Harlem ':'South Harlem','Sons south harlem':'South Harlem',\n",
    "              'South harlem':'South Harlem','SoHa':'South Harlem','south harlem  Central Park north':'South Harlem',\n",
    "              'South Williamsburg':'South Williamsburg','South Williamsburg ':'South Williamsburg',\n",
    "              'south williamsburg':'South Williamsburg','Southside  Williamsburg':'South Williamsburg',\n",
    "              'Southside ':'South Williamsburg','Los Sures':'South Williamsburg', 'South Village':'South Village',\n",
    "              'The South Village':'South Village','Two Bridges':'Two Bridges','Two Bridges ':'Two Bridges'\n",
    "             }\n",
    "\n",
    "print \"Drawings assigned to new neighborhoods:\", Other[Other['otherNeighborhood'].isin(new_nhood.keys())].count()[0]\n",
    "\n",
    "# Recode the 'nhood' field to reflect pre-existing 'Other' neighborhoods\n",
    "for i in new_nhood.keys():\n",
    "    # Recode in main dataset\n",
    "    ny_nhoods.loc[ny_nhoods['otherNeighborhood']==i,'nhood'] = new_nhood[i]\n",
    "    # Remove from consideration in other dataset\n",
    "    Other = Other[Other['otherNeighborhood'] != i]\n"
   ]
  },
  {
   "cell_type": "code",
   "execution_count": 287,
   "metadata": {
    "collapsed": false
   },
   "outputs": [
    {
     "name": "stdout",
     "output_type": "stream",
     "text": [
      "Total rows: 40813\n"
     ]
    }
   ],
   "source": [
    "# Now just remove the remaining 'Others' from the main dataset\n",
    "ny_nhoods = ny_nhoods[ny_nhoods['nhood']!='Other']\n",
    "print \"Total rows:\", ny_nhoods.count()[0]"
   ]
  },
  {
   "cell_type": "code",
   "execution_count": 288,
   "metadata": {
    "collapsed": false
   },
   "outputs": [
    {
     "name": "stdout",
     "output_type": "stream",
     "text": [
      "Total rows: 40784\n"
     ]
    }
   ],
   "source": [
    "# Finally, remove preexisting neighborhoods with <5 drawings\n",
    "remove = ['Charleston','Unionport','Chelsea (Staten Island)','Edenwald','Greenridge','Ocean Breeze',\n",
    "          'Rochdale Village','Utopia','Bloomfield','Pomonok','Seaside']\n",
    "\n",
    "ny_nhoods = ny_nhoods[~ny_nhoods['nhood'].isin(remove)]\n",
    "print \"Total rows:\", ny_nhoods.count()[0]\n",
    "#ny_nhoods.groupby('nhood').size().sort_values(ascending=False)"
   ]
  },
  {
   "cell_type": "code",
   "execution_count": 290,
   "metadata": {
    "collapsed": false
   },
   "outputs": [],
   "source": [
    "# Finally export the analytical dataset\n",
    "ny_nhoods = ny_nhoods.to_crs({'init': 'epsg:4326'})\n",
    "ny_nhoods.to_file('NYC_Analysis_wgs84.geojson',driver='GeoJSON')"
   ]
  }
 ],
 "metadata": {
  "kernelspec": {
   "display_name": "Python 2",
   "language": "python",
   "name": "python2"
  },
  "language_info": {
   "codemirror_mode": {
    "name": "ipython",
    "version": 2
   },
   "file_extension": ".py",
   "mimetype": "text/x-python",
   "name": "python",
   "nbconvert_exporter": "python",
   "pygments_lexer": "ipython2",
   "version": "2.7.11"
  }
 },
 "nbformat": 4,
 "nbformat_minor": 2
}

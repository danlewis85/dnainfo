{
 "cells": [
  {
   "cell_type": "markdown",
   "metadata": {},
   "source": [
    "# Read and Write DNAInfo Data "
   ]
  },
  {
   "cell_type": "markdown",
   "metadata": {},
   "source": [
    "This file gives a basic approach to reading and writing the DNAINfo geojsons primarily using geopandas."
   ]
  },
  {
   "cell_type": "code",
   "execution_count": 18,
   "metadata": {
    "collapsed": false
   },
   "outputs": [],
   "source": [
    "import geopandas as gpd\n",
    "import os"
   ]
  },
  {
   "cell_type": "markdown",
   "metadata": {},
   "source": [
    "## New York Data"
   ]
  },
  {
   "cell_type": "code",
   "execution_count": 20,
   "metadata": {
    "collapsed": false
   },
   "outputs": [],
   "source": [
    "# Get the names of all the New York folders.\n",
    "ny_dir = r'C:\\Users\\djl543\\OneDrive\\Draw-Your-Neighborhood-master\\Draw-Your-Neighborhood-master\\New_York' # input dir location\n",
    "ny_nhoods = os.listdir(ny_dir)\n",
    "\n",
    "# Ideally I want everything in a single file to start with, so we'll iterate through all the neighbourhoods\n",
    "# and add all drawings to a single geopandas dataframe.\n",
    "# The first drawing in the first neighbourhood will act as a template.\n",
    "ny_1 = r'C:\\Users\\djl543\\OneDrive\\Draw-Your-Neighborhood-master\\Draw-Your-Neighborhood-master\\New_York\\alphabet-city\\alphabet-city_0.geojson'\n",
    "data = gpd.read_file(ny_1)\n",
    "\n",
    "# Now iterate through all the neighbourhoods and drawings\n",
    "for hood in ny_nhoods:\n",
    "    # Get all drawings within a neighbourhood directory.\n",
    "    drawings = os.listdir(r'C:\\Users\\djl543\\OneDrive\\Draw-Your-Neighborhood-master\\Draw-Your-Neighborhood-master\\New_York\\\\' + hood)\n",
    "    for drawing in drawings:\n",
    "        # Get each drawing in turn\n",
    "        drawing = r'C:\\Users\\djl543\\OneDrive\\Draw-Your-Neighborhood-master\\Draw-Your-Neighborhood-master\\New_York\\\\' + hood + '\\\\' + drawing\n",
    "        # Make the drawing a (temporary) geopandas dataframe\n",
    "        temp = gpd.read_file(drawing)\n",
    "        # Append the temporary geopandas dataframe to the template we made earlier.\n",
    "        # This is the equivalent of a += operation. Seems to work.\n",
    "        data = gpd.GeoDataFrame(pd.concat([data,temp],ignore_index=True))\n",
    "    #print hood\n",
    "\n",
    "# Don't forget to remove the record used as a template for the geopandas dataframe!\n",
    "data = data.drop(0)\n",
    "\n",
    "# Set the coordinate system to WGS-84\n",
    "data.crs = {'init': 'epsg:4326'}\n",
    "\n",
    "# Export the geopandas dataframe as a single geojson. NB geojsons always use wgs84, unless otherwise specified.\n",
    "data.to_file('raw_wgs84.geojson',driver='GeoJSON')"
   ]
  },
  {
   "cell_type": "code",
   "execution_count": 16,
   "metadata": {
    "collapsed": false
   },
   "outputs": [],
   "source": [
    "# The exported file can now be read using geopandas, like this:\n",
    "readdata = gpd.read_file('raw_wgs84.geojson')\n",
    "\n",
    "# Let's project the data to: EPSG:32118 - New York Long Island, NAD83-based projection in metres.\n",
    "readdata = readdata.to_crs({'init':'epsg:32118'})\n",
    "\n",
    "# or, EPSG: 32618 - UTM Zone 18N, metres.\n",
    "#readdata = readdata.to_crs({'init':'epsg:32618'})"
   ]
  },
  {
   "cell_type": "code",
   "execution_count": 28,
   "metadata": {
    "collapsed": false
   },
   "outputs": [],
   "source": [
    "# Finally, let's see if we can save the projected data as a shapefile\n",
    "#import fiona; fiona.supported_drivers\n",
    "\n",
    "readdata.to_file('NYC_raw_epsg32118.shp',driver='ESRI Shapefile')"
   ]
  },
  {
   "cell_type": "markdown",
   "metadata": {},
   "source": [
    "## Chicago Data"
   ]
  },
  {
   "cell_type": "code",
   "execution_count": 25,
   "metadata": {
    "collapsed": false
   },
   "outputs": [],
   "source": [
    "# Get the names of all the New York folders.\n",
    "chicago_dir = r'C:\\Users\\djl543\\OneDrive\\Draw-Your-Neighborhood-master\\Draw-Your-Neighborhood-master\\Chicago' # input dir location\n",
    "chicago_nhoods = os.listdir(chicago_dir)\n",
    "\n",
    "# Ideally I want everything in a single file to start with, so we'll iterate through all the neighbourhoods\n",
    "# and add all drawings to a single geopandas dataframe.\n",
    "# The first drawing in the first neighbourhood will act as a template.\n",
    "chi_1 = r'C:\\Users\\djl543\\OneDrive\\Draw-Your-Neighborhood-master\\Draw-Your-Neighborhood-master\\Chicago\\chi-albany-park\\albany-park_0.geojson'\n",
    "data = gpd.read_file(chi_1)\n",
    "\n",
    "# Now iterate through all the neighbourhoods and drawings\n",
    "for hood in chicago_nhoods:\n",
    "    # Get all drawings within a neighbourhood directory.\n",
    "    drawings = os.listdir(r'C:\\Users\\djl543\\OneDrive\\Draw-Your-Neighborhood-master\\Draw-Your-Neighborhood-master\\Chicago\\\\' + hood)\n",
    "    for drawing in drawings:\n",
    "        # Get each drawing in turn\n",
    "        drawing = r'C:\\Users\\djl543\\OneDrive\\Draw-Your-Neighborhood-master\\Draw-Your-Neighborhood-master\\Chicago\\\\' + hood + '\\\\' + drawing\n",
    "        # Make the drawing a (temporary) geopandas dataframe\n",
    "        temp = gpd.read_file(drawing)\n",
    "        # Append the temporary geopandas dataframe to the template we made earlier.\n",
    "        # This is the equivalent of a += operation. Seems to work.\n",
    "        data = gpd.GeoDataFrame(pd.concat([data,temp],ignore_index=True))\n",
    "    #print hood\n",
    "\n",
    "# Don't forget to remove the record used as a template for the geopandas dataframe!\n",
    "data = data.drop(0)\n",
    "\n",
    "# Set the coordinate system to WGS-84\n",
    "data.crs = {'init': 'epsg:4326'}\n",
    "\n",
    "# Export the geopandas dataframe as a single geojson. NB geojsons always use wgs84, unless otherwise specified.\n",
    "data.to_file('Chicago_raw_wgs84.geojson',driver='GeoJSON')"
   ]
  },
  {
   "cell_type": "code",
   "execution_count": 30,
   "metadata": {
    "collapsed": false
   },
   "outputs": [],
   "source": [
    "# The exported file can now be read using geopandas, like this:\n",
    "readdata = gpd.read_file('Chicago_raw_wgs84.geojson')\n",
    "\n",
    "# Let's project the data to: EPSG:3528 - NAD83(NSRS2007) / Illinois East, projection in metres.\n",
    "readdata = readdata.to_crs({'init':'epsg:3528'})\n",
    "\n",
    "# or, EPSG: 32616 - UTM Zone 16N, metres.\n",
    "#readdata = readdata.to_crs({'init':'epsg:32618'})"
   ]
  },
  {
   "cell_type": "code",
   "execution_count": 31,
   "metadata": {
    "collapsed": true
   },
   "outputs": [],
   "source": [
    "# Finally, let's see if we can save the projected data as a shapefile\n",
    "#import fiona; fiona.supported_drivers\n",
    "\n",
    "readdata.to_file('Chicago_raw_epsg3528.shp',driver='ESRI Shapefile')"
   ]
  }
 ],
 "metadata": {
  "kernelspec": {
   "display_name": "Python 2",
   "language": "python",
   "name": "python2"
  },
  "language_info": {
   "codemirror_mode": {
    "name": "ipython",
    "version": 2
   },
   "file_extension": ".py",
   "mimetype": "text/x-python",
   "name": "python",
   "nbconvert_exporter": "python",
   "pygments_lexer": "ipython2",
   "version": "2.7.11"
  }
 },
 "nbformat": 4,
 "nbformat_minor": 2
}
